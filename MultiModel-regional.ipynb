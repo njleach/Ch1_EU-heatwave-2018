{
 "cells": [
  {
   "cell_type": "markdown",
   "id": "brutal-detective",
   "metadata": {},
   "source": [
    "# Dependencies"
   ]
  },
  {
   "cell_type": "code",
   "execution_count": 1,
   "id": "approximate-there",
   "metadata": {
    "jupyter": {
     "source_hidden": true
    },
    "tags": []
   },
   "outputs": [],
   "source": [
    "import numpy as np\n",
    "import scipy as sp\n",
    "import netCDF4 as nC4\n",
    "import scipy.signal\n",
    "import pdfo\n",
    "import matplotlib\n",
    "import matplotlib.pyplot as plt\n",
    "import seaborn as sn\n",
    "sn.set_context(\"paper\",font_scale=1.2)\n",
    "import statsmodels.api as sm\n",
    "LOWESS = sm.nonparametric.lowess\n",
    "import eofs\n",
    "import xrft\n",
    "import cartopy\n",
    "from cartopy import crs\n",
    "from cartopy.mpl.ticker import LongitudeFormatter, LatitudeFormatter\n",
    "import cartopy.feature as cfeature\n",
    "import xarray as xr\n",
    "import os\n",
    "import pandas as pd\n",
    "from mpl_toolkits.axes_grid1.inset_locator import inset_axes\n",
    "import sys\n",
    "import glob\n",
    "import datetime\n",
    "import time\n",
    "import multiprocessing\n",
    "import tqdm\n",
    "import cmocean\n",
    "import palettable\n",
    "from shapely.geometry.polygon import LinearRing\n",
    "import copy\n",
    "import warnings\n",
    "\n",
    "import pyarrow as pa\n",
    "import pyarrow.parquet as pq\n",
    "\n",
    "from IPython.display import display, clear_output\n",
    "\n",
    "## get my stats functions\n",
    "from mystatsfunctions import OLSE,LMoments\n",
    "from moarpalettes import get_palette\n",
    "\n",
    "from fair import *\n",
    "\n",
    "## Matplotlib rcparams setup:\n",
    "\n",
    "matplotlib.rcParams['font.family']='Helvetica'\n",
    "matplotlib.rcParams['font.size']=11\n",
    "# matplotlib.rcParams['font.weight']=400\n",
    "\n",
    "matplotlib.rcParams['image.cmap']='cmo.ice'\n",
    "\n",
    "matplotlib.rcParams['axes.prop_cycle']=matplotlib.cycler('color',list(get_palette.tab10().to_sn_palette()))\n",
    "matplotlib.rcParams['axes.formatter.limits']=-3,3\n",
    "# matplotlib.rcParams['axes.labelweight']=300\n",
    "\n",
    "matplotlib.rcParams['legend.frameon']=False\n",
    "\n",
    "matplotlib.rcParams['boxplot.whiskers']=(5,95)\n",
    "matplotlib.rcParams['boxplot.showfliers']=False\n",
    "matplotlib.rcParams['boxplot.medianprops.color']='black'\n",
    "\n",
    "plt.rcParams['hatch.color']='k'\n",
    "plt.rcParams['hatch.linewidth']=0.5\n",
    "\n",
    "matplotlib.rcParams['errorbar.capsize']=5\n",
    "\n",
    "matplotlib.rcParams['hist.bins']='auto'\n",
    "\n",
    "plt.rcParams['pdf.fonttype'] = 42\n",
    "\n",
    "%matplotlib inline"
   ]
  },
  {
   "cell_type": "code",
   "execution_count": 2,
   "id": "informed-compiler",
   "metadata": {
    "jupyter": {
     "source_hidden": true
    },
    "tags": []
   },
   "outputs": [],
   "source": [
    "## plotting functions:\n",
    "\n",
    "def add_lat_lon_ticks(ax,lat=False,lon=False):\n",
    "    if not lon is False:\n",
    "        ax.set_xticks(lon, crs=crs.PlateCarree())\n",
    "        lon_formatter = LongitudeFormatter(zero_direction_label=True)\n",
    "        ax.xaxis.set_major_formatter(lon_formatter)\n",
    "    if not lat is False:\n",
    "        ax.set_yticks(lat, crs=crs.PlateCarree())\n",
    "        lat_formatter = LatitudeFormatter()\n",
    "        ax.yaxis.set_major_formatter(lat_formatter)"
   ]
  },
  {
   "cell_type": "markdown",
   "id": "restricted-belief",
   "metadata": {},
   "source": [
    "## Define functions"
   ]
  },
  {
   "cell_type": "code",
   "execution_count": 3,
   "id": "knowing-responsibility",
   "metadata": {
    "jupyter": {
     "source_hidden": true
    },
    "tags": []
   },
   "outputs": [],
   "source": [
    "## function for hacking seaborn's catplot to make it pretty\n",
    "\n",
    "def hack_catplot_range(x,y,hue,ci=66,dodge=False,hue_order=False,palette=False,**kwargs):\n",
    "    \n",
    "    x = x.astype(str)\n",
    "    \n",
    "    # calculate desired quantiles\n",
    "    quantiles = [0.5-ci/200 , 0.5+ci/200]\n",
    "    \n",
    "    # calculate x data\n",
    "    plot_x = dict(zip(x.unique(),np.arange(x.unique().size)))\n",
    "    \n",
    "    # if hue order\n",
    "    if not hue_order:\n",
    "        hue_order = hue.unique().tolist()\n",
    "    \n",
    "    hue_number = len(hue_order)\n",
    "    \n",
    "    # if dodge\n",
    "    if dodge:\n",
    "        plot_x_dodge = dict(zip(hue_order,np.linspace(-dodge/2,dodge/2,hue_number)))\n",
    "    else:\n",
    "        plot_x_dodge = dict(zip(hue.unique(),np.zeros(hue_number)))\n",
    "    \n",
    "    # groupby x,hue and plot\n",
    "    for i,((x_level,hue_level),gr) in enumerate(y.groupby([x,hue])):\n",
    "        \n",
    "        if palette:\n",
    "            kwargs['color'] = palette[hue_order.index(hue_level)]\n",
    "        \n",
    "        _y = np.nanquantile(gr.values,quantiles,interpolation='nearest')\n",
    "        ## replace infs\n",
    "        _y = np.where(np.isinf(_y),999999,_y)\n",
    "        \n",
    "        _x = plot_x[x_level] + plot_x_dodge[hue_level]\n",
    "        \n",
    "        plt.vlines(_x,*_y,lw=matplotlib.rcParams['lines.linewidth']*1.8,**kwargs)"
   ]
  },
  {
   "cell_type": "code",
   "execution_count": 4,
   "id": "plastic-publicity",
   "metadata": {},
   "outputs": [],
   "source": [
    "palette = get_palette.IBM_color_blind().to_sn_palette()\n",
    "palette1 = get_palette.color_blind().to_sn_palette()"
   ]
  },
  {
   "cell_type": "markdown",
   "id": "bacterial-grass",
   "metadata": {},
   "source": [
    "# Retrieve data"
   ]
  },
  {
   "cell_type": "markdown",
   "id": "listed-subscription",
   "metadata": {},
   "source": [
    "Get Anthropogenic Warming Index."
   ]
  },
  {
   "cell_type": "code",
   "execution_count": 5,
   "id": "tamil-reverse",
   "metadata": {},
   "outputs": [
    {
     "name": "stdout",
     "output_type": "stream",
     "text": [
      "Integrating 3 scenarios, 1 gas cycle parameter sets, 1 thermal response parameter sets, over ['bc', 'bc|aci', 'bc|bc_on_snow', 'c2f6', 'c3f8', 'c4f10', 'c5f12', 'c6f14', 'c7f16', 'c8f18', 'c_c4f8', 'carbon_dioxide', 'carbon_tetrachloride', 'carbon_tetrachloride|o3', 'cf4', 'cfc11', 'cfc113', 'cfc113|o3', 'cfc114', 'cfc114|o3', 'cfc115', 'cfc115|o3', 'cfc11|o3', 'cfc12', 'cfc12|o3', 'ch2cl2', 'ch2cl2|o3', 'ch3ccl3', 'ch3ccl3|o3', 'chcl3', 'chcl3|o3', 'co', 'co|o3', 'halon1202', 'halon1202|o3', 'halon1211', 'halon1211|o3', 'halon1301', 'halon1301|o3', 'halon2402', 'halon2402|o3', 'hcfc141b', 'hcfc141b|o3', 'hcfc142b', 'hcfc142b|o3', 'hcfc22', 'hcfc22|o3', 'hfc125', 'hfc134a', 'hfc143a', 'hfc152a', 'hfc227ea', 'hfc23', 'hfc236fa', 'hfc245fa', 'hfc32', 'hfc365mfc', 'hfc4310mee', 'methane', 'methane|strat_h2o', 'methane|o3', 'methyl_bromide', 'methyl_bromide|o3', 'methyl_chloride', 'methyl_chloride|o3', 'nf3', 'nh3', 'nitrous_oxide', 'nitrous_oxide|o3', 'nmvoc', 'nmvoc|o3', 'nox', 'nox_avi', 'nox_avi|contrails', 'nox|o3', 'oc', 'oc|aci', 'sf6', 'so2', 'so2f2', 'so2|aci'] forcing agents, between 1750 and 2019...\n"
     ]
    },
    {
     "name": "stderr",
     "output_type": "stream",
     "text": [
      "100%|██████████| 269/269 [00:00<00:00, 3356.43 timestep/s]\n"
     ]
    }
   ],
   "source": [
    "## HadCRUT5\n",
    "HC5 = xr.open_dataset('./ancil/HadCRUT.5.0.1.0.analysis.summary_series.global.annual.nc')\n",
    "HC5 = HC5.tas_mean.to_pandas()\n",
    "HC5.index = HC5.index.year\n",
    "\n",
    "## ERF components from AR6\n",
    "erf_ar6 = pd.read_csv('./ancil/AR6_ERF_1750-2019.csv',index_col=0)\n",
    "\n",
    "## ant / nat FaIR run\n",
    "fair_erf = pd.DataFrame(index=erf_ar6.index,columns=pd.MultiIndex.from_product([['ant','aer','nat'],['forcing']]),data=pd.concat([erf_ar6.loc[:,'total_anthropogenic']-erf_ar6.loc[:,'aerosol'],erf_ar6.loc[:,'aerosol'],erf_ar6.loc[:,'total_natural']],axis=1).values)\n",
    "fair_emms = return_empty_emissions(start_year=1750,end_year=2019,scen_names=['ant','aer','nat'])\n",
    "fair_temps = run_FaIR(emissions_in=fair_emms,forcing_in=fair_erf)['T'].loc[1850:]\n",
    "\n",
    "## regress HadCRUT5 onto FaIR temperature output & define anthropogenic warming index\n",
    "X = np.column_stack([np.ones(fair_temps.index.size),fair_temps])\n",
    "Y = HC5.loc[1850:2019].values[:,None]\n",
    "mlr = OLSE.multiple(Y)\n",
    "mlr.fit(X)\n",
    "AWI = ( mlr.B[1]*fair_temps.aer + mlr.B[2]*fair_temps.ant ).default"
   ]
  },
  {
   "cell_type": "markdown",
   "id": "ambient-strategy",
   "metadata": {},
   "source": [
    "## REGIONS"
   ]
  },
  {
   "cell_type": "markdown",
   "id": "possible-monte",
   "metadata": {},
   "source": [
    "Get E-Obs observations."
   ]
  },
  {
   "cell_type": "code",
   "execution_count": 6,
   "id": "speaking-working",
   "metadata": {},
   "outputs": [],
   "source": [
    "def preproc_eobs_rg(ds):\n",
    "    \n",
    "    ds = ds.copy()\n",
    "    metric = ds.encoding['source'].split('/')[-1].split('_')[-2]\n",
    "    RG = ds.encoding['source'].split('/')[-2]\n",
    "    ds['time'] = ds.time.dt.year\n",
    "    \n",
    "    return ds.expand_dims({'metric':[metric],'region':[RG]}).transpose('time',...)\n",
    "\n",
    "EObs_RG = xr.open_mfdataset('/home/leachl/Documents/Attribution/BAMs_2018_Europe_summer/Obsv_return/regions/*/E_Obs_0.25deg_TX*av_*.nc',preprocess=preproc_eobs_rg).sel(metric=['TX10av','TX1av','TX90av']).squeeze().rename(tg='t2m')"
   ]
  },
  {
   "cell_type": "markdown",
   "id": "historic-reasoning",
   "metadata": {},
   "source": [
    "Get HadGEM3A simulations."
   ]
  },
  {
   "cell_type": "code",
   "execution_count": 7,
   "id": "tribal-consultation",
   "metadata": {},
   "outputs": [],
   "source": [
    "def preproc_hadgem_rg(ds):\n",
    "    \n",
    "    ds = ds.copy()\n",
    "    metric = ds.encoding['source'].split('/')[-2]\n",
    "    RG = ds.encoding['source'].split('/')[-3]\n",
    "    ds = ds.assign_coords(record=np.arange(ds.record.size))\n",
    "    ds['time'] = ds.time.dt.year\n",
    "    ds['tas'] = ds.tas-273.15\n",
    "    \n",
    "    return ds.expand_dims({'metric':[metric],'region':[RG]}).transpose('time',...)\n",
    "\n",
    "CLIM_paths = [glob.glob('/media/leachl/TOSHIBA EXT/Nicks_Documents/Attribution_data/soge-home/users/linc3691/HadGEM3A/clim/TMEAN/regions/*/'+x+'/MERGED.nc') for x in ['TX10av','TX1av','TX90av']]\n",
    "CLIM_RG = xr.concat([xr.open_mfdataset(x,preprocess=preproc_hadgem_rg,concat_dim='region') for x in CLIM_paths],dim='metric').squeeze().rename(tas='t2m').load()"
   ]
  },
  {
   "cell_type": "markdown",
   "id": "literary-honey",
   "metadata": {},
   "source": [
    "Get RACMO simulations."
   ]
  },
  {
   "cell_type": "code",
   "execution_count": 8,
   "id": "streaming-contest",
   "metadata": {},
   "outputs": [],
   "source": [
    "def preproc_racmo_rg(ds):\n",
    "    \n",
    "    ds = ds.copy()\n",
    "    metric = ds.encoding['source'].split('/')[-2]\n",
    "    RG = ds.encoding['source'].split('/')[-3]\n",
    "    ds = ds.assign_coords(record=np.arange(ds.record.size))\n",
    "    ds['time'] = ds.time.dt.year\n",
    "    ds['t2m'] = ds.t2m-273.15\n",
    "    ds = ds.sel(time=slice(1950,2018))\n",
    "    \n",
    "    return ds.expand_dims({'metric':[metric],'region':[RG]}).transpose('time',...)\n",
    "\n",
    "RACMO_paths = [glob.glob('/media/leachl/TOSHIBA EXT/Nicks_Documents/Attribution_data/RACMO/TMEAN/regions/*/'+x+'/MERGED.nc') for x in ['TX10av','TX1av','TX90av']]\n",
    "RACMO_RG = xr.concat([xr.open_mfdataset(x,preprocess=preproc_racmo_rg,concat_dim='region') for x in RACMO_paths],dim='metric').squeeze().load()"
   ]
  },
  {
   "cell_type": "markdown",
   "id": "available-crawford",
   "metadata": {},
   "source": [
    "Get EUROCORDEX simulations."
   ]
  },
  {
   "cell_type": "code",
   "execution_count": 9,
   "id": "atomic-morocco",
   "metadata": {},
   "outputs": [],
   "source": [
    "def preproc_ec_rg(ds):\n",
    "    \n",
    "    ds = ds.copy()\n",
    "    metric = ds.encoding['source'].split('/')[-2]\n",
    "    RG = ds.encoding['source'].split('/')[-3]\n",
    "    ds = ds.assign_coords(record=np.arange(ds.record.size)).rename(tasAdjust='t2m')\n",
    "    ds['time'] = ds.time.dt.year\n",
    "    ds['t2m'] = ds.t2m-273.15\n",
    "    ds = ds.sel(time=slice(1950,2018))\n",
    "    \n",
    "    return ds.expand_dims({'metric':[metric],'region':[RG]}).transpose('time',...)\n",
    "\n",
    "EC_paths = [glob.glob('/media/leachl/TOSHIBA EXT/Nicks_Documents/Attribution_data/EUROCORDEX/TMEAN/regions/*/'+x+'/MERGED.nc') for x in ['TX10av','TX1av','TX90av']]\n",
    "EC_RG = xr.concat([xr.open_mfdataset(x,preprocess=preproc_ec_rg,concat_dim='region') for x in EC_paths],dim='metric').squeeze().load()"
   ]
  },
  {
   "cell_type": "markdown",
   "id": "unauthorized-purpose",
   "metadata": {},
   "source": [
    "# Analysis"
   ]
  },
  {
   "cell_type": "markdown",
   "id": "moving-pennsylvania",
   "metadata": {},
   "source": [
    "## Observed return time"
   ]
  },
  {
   "cell_type": "markdown",
   "id": "advance-prize",
   "metadata": {},
   "source": [
    "### bootstrap obervations"
   ]
  },
  {
   "cell_type": "code",
   "execution_count": 10,
   "id": "forced-welding",
   "metadata": {},
   "outputs": [],
   "source": [
    "## set the number of bootstrap members\n",
    "n_boot = 10000\n",
    "\n",
    "def generate_boot(ds):\n",
    "    \n",
    "    ## bootstrap the samples\n",
    "    x = ds.values\n",
    "    np.random.seed(0)\n",
    "    seed = np.random.choice(x.shape[0],x.shape[0]*n_boot)\n",
    "    \n",
    "    ## set the first seed equal to the original data for ease\n",
    "    seed[::n_boot] = np.arange(x.shape[0])\n",
    "    \n",
    "    boot = x[seed].reshape(x.shape[0],seed.size//x.shape[0],*x.shape[1:])\n",
    "    \n",
    "    coords = dict(ds.coords)\n",
    "    coords['seed'] = np.arange(n_boot)\n",
    "    \n",
    "    ds_out = xr.DataArray(boot, dims=[ds.dims[0],'seed',*ds.dims[1:]], coords=coords).rename(ds.name).to_dataset()\n",
    "    \n",
    "    ## need to record the years for detrending\n",
    "    idx_boot = ds[ds.dims[0]].values[seed].reshape(x.shape[0],seed.size//x.shape[0])\n",
    "    \n",
    "    idx_coords = dict(ds[ds.dims[0]].coords)\n",
    "    idx_coords['seed'] = np.arange(n_boot)\n",
    "    \n",
    "    ds_out['idx_'+ds.dims[0]] = xr.DataArray(idx_boot, dims=[ds.dims[0],'seed'], coords=idx_coords)\n",
    "    \n",
    "    return ds_out"
   ]
  },
  {
   "cell_type": "code",
   "execution_count": 11,
   "id": "corresponding-opposition",
   "metadata": {},
   "outputs": [],
   "source": [
    "## this definition required to get the year of the resamples in the ensembles\n",
    "vector_sel = np.vectorize(lambda x: x[0])\n",
    "\n",
    "EObs_RG_boot = generate_boot(EObs_RG.t2m.transpose('time',...))\n",
    "\n",
    "CLIM_RG_boot = generate_boot(CLIM_RG.t2m.stack(idx=['time','record']).transpose('idx',...))\n",
    "CLIM_RG_boot['idx_time'] = (['idx','seed'],vector_sel(CLIM_RG_boot.idx_idx.values))\n",
    "\n",
    "RACMO_RG_boot = generate_boot(RACMO_RG.t2m.stack(idx=['time','record']).transpose('idx',...))\n",
    "RACMO_RG_boot['idx_time'] = (['idx','seed'],vector_sel(RACMO_RG_boot.idx_idx.values))\n",
    "\n",
    "EC_RG_boot = generate_boot(EC_RG.t2m.stack(idx=['time','record']).transpose('idx',...))\n",
    "EC_RG_boot['idx_time'] = (['idx','seed'],vector_sel(EC_RG_boot.idx_idx.values))"
   ]
  },
  {
   "cell_type": "markdown",
   "id": "expressed-mediterranean",
   "metadata": {},
   "source": [
    "### detrend"
   ]
  },
  {
   "cell_type": "code",
   "execution_count": 12,
   "id": "beneficial-ability",
   "metadata": {},
   "outputs": [],
   "source": [
    "def detrend(ds):\n",
    "    \n",
    "    \"\"\"\n",
    "    This function regresses (OLS) timeseries onto the Anthropogenic Warming Index.\n",
    "    \"\"\"\n",
    "    \n",
    "    ## detrend observations using AWI\n",
    "    slr = OLSE.simple(ds.t2m.values)\n",
    "    slr.fit(AWI.loc[ds.idx_time.values.flatten()].values.reshape(ds.idx_time.shape)[...,None,None])\n",
    "    \n",
    "    ### remove attributable trend, shifting to a pseudo-stationary 2018 climatology\n",
    "    ds['t2m_trend'] = (['seed','metric','region'],slr.b1)\n",
    "    ds['t2m_dt'] = ds.t2m - (slr.pred() - slr.pred(AWI.loc[2018]))"
   ]
  },
  {
   "cell_type": "code",
   "execution_count": 13,
   "id": "imported-covering",
   "metadata": {},
   "outputs": [],
   "source": [
    "detrend(EObs_RG_boot)\n",
    "detrend(CLIM_RG_boot)\n",
    "detrend(RACMO_RG_boot)\n",
    "detrend(EC_RG_boot)"
   ]
  },
  {
   "cell_type": "code",
   "execution_count": 14,
   "id": "other-accordance",
   "metadata": {},
   "outputs": [],
   "source": [
    "t2m_trend_df = pd.concat([x.t2m_trend.to_dataframe().t2m_trend.reset_index() for x in [EObs_RG_boot,CLIM_RG_boot,RACMO_RG_boot,EC_RG_boot]],keys=['E-Obs','HadGEM3-A','RACMO','EURO-CORDEX'],names=['source']).reset_index(level=0).reset_index(drop=True).dropna()"
   ]
  },
  {
   "cell_type": "code",
   "execution_count": 15,
   "id": "minimal-slave",
   "metadata": {},
   "outputs": [
    {
     "data": {
      "text/plain": [
       "''"
      ]
     },
     "execution_count": 15,
     "metadata": {},
     "output_type": "execute_result"
    },
    {
     "data": {
      "image/png": "[encoded data removed]",
      "text/plain": [
       "<Figure size 529.879x400 with 1 Axes>"
      ]
     },
     "metadata": {},
     "output_type": "display_data"
    }
   ],
   "source": [
    "choose_region = 'BI'\n",
    "\n",
    "g=sn.catplot(data=t2m_trend_df.query('region==\"'+choose_region+'\"').sort_values(by='metric',key=lambda x: x.map(dict(TX1av=0,TX10av=1,TX90av=2))),y='t2m_trend',x='metric',hue='source',hue_order=['E-Obs','HadGEM3-A','RACMO','EURO-CORDEX'],kind='point',ci=None,estimator=np.nanmedian,join=False,dodge=0.3,palette=palette1[:4],scale=1,aspect=1)    \n",
    "    \n",
    "g.map(hack_catplot_range,'metric','t2m_trend','source',ci=90,hue_order=['E-Obs','HadGEM3-A','RACMO','EURO-CORDEX'],dodge=0.3,palette=palette1[:4])\n",
    "\n",
    "g.set(ylabel='metric trend / \\N{DEGREE SIGN}C \\N{DEGREE SIGN}C$^{-1}$',xlabel='metric')\n",
    "g.axes[0,0].axhline(0,ls=':',color='grey',lw=0.5)\n",
    "g.fig.dpi=80\n",
    "g.fig.patch.set_facecolor('xkcd:white')\n",
    "g.fig.suptitle(choose_region+' trend in heatwave metrics',fontweight='bold',y=1.05)\n",
    "''"
   ]
  },
  {
   "cell_type": "markdown",
   "id": "earned-failing",
   "metadata": {},
   "source": [
    "### EVT"
   ]
  },
  {
   "cell_type": "markdown",
   "id": "hungry-technology",
   "metadata": {},
   "source": [
    "Find climatological return period based on detrended E-Obs."
   ]
  },
  {
   "cell_type": "code",
   "execution_count": 16,
   "id": "historic-niagara",
   "metadata": {},
   "outputs": [
    {
     "name": "stderr",
     "output_type": "stream",
     "text": [
      "/home/leachl/Documents/scripts/mystatsfunctions/mystatsfunctions/LMoments.py:244: RuntimeWarning: invalid value encountered in power\n",
      "  cdf = np.exp(-1*(1-self.k*((x-self.X)/self.a))**(1/self.k))\n",
      "/home/leachl/miniconda3/lib/python3.7/site-packages/ipykernel_launcher.py:5: RuntimeWarning: divide by zero encountered in true_divide\n",
      "  \"\"\"\n"
     ]
    }
   ],
   "source": [
    "## fit GEV distributions to the detrended data\n",
    "gev = LMoments.gev()\n",
    "gev.fit(EObs_RG_boot.t2m_dt.values)\n",
    "\n",
    "RP = 1/(1-gev.cdf(EObs_RG.t2m.sel(time=2018).values))\n",
    "\n",
    "EObs_RG_boot['RP'] = (['seed','metric','region'], RP)\n",
    "\n",
    "## repeat with GLO for TX90av\n",
    "glo = LMoments.glo()\n",
    "glo.fit(EObs_RG_boot.t2m_dt.sel(metric='TX90av').values)\n",
    "\n",
    "EObs_RG_boot['RP'][:,-1] = 1/(1-glo.cdf(EObs_RG.t2m.sel(metric='TX90av',time=2018).values))"
   ]
  },
  {
   "cell_type": "code",
   "execution_count": 17,
   "id": "collectible-quality",
   "metadata": {},
   "outputs": [
    {
     "data": {
      "text/plain": [
       "''"
      ]
     },
     "execution_count": 17,
     "metadata": {},
     "output_type": "execute_result"
    },
    {
     "data": {
      "image/png": "[encoded data removed]",
      "text/plain": [
       "<Figure size 682.518x400 with 1 Axes>"
      ]
     },
     "metadata": {},
     "output_type": "display_data"
    }
   ],
   "source": [
    "g=sn.catplot(data=EObs_RG_boot.RP.to_dataframe().RP.reset_index(),y='RP',x='region',hue='metric',hue_order=['TX1av','TX10av','TX90av'],kind='point',ci=None,estimator=np.nanmedian,join=False,dodge=0.3,palette=palette[:3],scale=1,aspect=1.5)    \n",
    "    \n",
    "g.map(hack_catplot_range,'region','RP','metric',ci=90,hue_order=['TX1av','TX10av','TX90av'],dodge=0.3,palette=palette[:3])\n",
    "\n",
    "g.set(ylabel='estimated return period / yr',xlabel='region',yscale='log',ylim=(1,1e3))\n",
    "g.axes[0,0].axhline(0,ls=':',color='grey',lw=0.5)\n",
    "g.fig.dpi=80\n",
    "g.fig.patch.set_facecolor('xkcd:white')\n",
    "g.fig.suptitle('2018 heatwave return period',fontweight='bold',y=1.05)\n",
    "''"
   ]
  },
  {
   "cell_type": "markdown",
   "id": "brief-array",
   "metadata": {},
   "source": [
    "Find climatological threshold & risk ratio in ensembles."
   ]
  },
  {
   "cell_type": "code",
   "execution_count": 18,
   "id": "requested-holder",
   "metadata": {},
   "outputs": [],
   "source": [
    "def ensemble_EVT(ds):\n",
    "    \n",
    "    \"\"\"\n",
    "    This function fits GEV distributions to (detrended) data \n",
    "    & computes:\n",
    "    1. 2018 t2m thresholds based on the E-Obs 2018 quantile\n",
    "    2. Risk ratios based on shifting the GEV per metric trends\n",
    "    \"\"\"\n",
    "\n",
    "    EObs_RP = EObs_RG_boot.RP.sel(region=ds.region.values)\n",
    "    \n",
    "    ## fit GEV distributions to the detrended data\n",
    "    gev = LMoments.gev()\n",
    "    gev.fit(ds.t2m_dt.values)\n",
    "\n",
    "    ## compute threshold based on E-Obs return period\n",
    "    threshold = gev.qf(1-1/EObs_RP.values)\n",
    "    ds['t2m_threshold'] = (['seed','metric','region'], threshold)\n",
    "    \n",
    "    ## now re-compute return period of this threshold with shifted distribution\n",
    "    gev_shift = copy.deepcopy(gev)\n",
    "    gev_shift.X = gev_shift.X - (ds.t2m_trend * (AWI.loc[2018].mean() - AWI.loc[1850:1900].mean())).values\n",
    "    \n",
    "    ## use the threshold + shifted distribution to compute risk ratio\n",
    "    RR = (1/(1-gev_shift.cdf(threshold))) / EObs_RP.values\n",
    "    ds['risk_ratio'] = (['seed','metric','region'], RR)\n",
    "\n",
    "    ## repeat with GLO for TX90av\n",
    "    glo = LMoments.glo()\n",
    "    glo.fit(ds.t2m_dt.sel(metric='TX90av').values)\n",
    "\n",
    "    ds['t2m_threshold'][:,-1] = glo.qf(1-1/EObs_RP.sel(metric='TX90av').values)\n",
    "    \n",
    "    glo_shift = copy.deepcopy(glo)\n",
    "    glo_shift.X = glo_shift.X - (ds.t2m_trend.sel(metric='TX90av') * (AWI.loc[2018].mean() - AWI.loc[1850:1900].mean())).values\n",
    "    \n",
    "    RR = (1/(1-glo_shift.cdf(ds.t2m_threshold.sel(metric='TX90av').values))) / EObs_RP.sel(metric='TX90av').values\n",
    "    ds['risk_ratio'][:,-1] = RR"
   ]
  },
  {
   "cell_type": "code",
   "execution_count": 19,
   "id": "mysterious-identity",
   "metadata": {},
   "outputs": [
    {
     "name": "stderr",
     "output_type": "stream",
     "text": [
      "/home/leachl/Documents/scripts/mystatsfunctions/mystatsfunctions/LMoments.py:244: RuntimeWarning: invalid value encountered in power\n",
      "  cdf = np.exp(-1*(1-self.k*((x-self.X)/self.a))**(1/self.k))\n",
      "/home/leachl/miniconda3/lib/python3.7/site-packages/ipykernel_launcher.py:25: RuntimeWarning: divide by zero encountered in true_divide\n",
      "/home/leachl/miniconda3/lib/python3.7/site-packages/ipykernel_launcher.py:25: RuntimeWarning: invalid value encountered in true_divide\n",
      "/home/leachl/Documents/scripts/mystatsfunctions/mystatsfunctions/LMoments.py:425: RuntimeWarning: invalid value encountered in power\n",
      "  cdf = 1/( 1 + (1-self.k*(x-self.X)/self.a)**(1/self.k) )\n",
      "/home/leachl/miniconda3/lib/python3.7/site-packages/ipykernel_launcher.py:37: RuntimeWarning: divide by zero encountered in true_divide\n"
     ]
    }
   ],
   "source": [
    "ensemble_EVT(EObs_RG_boot)\n",
    "ensemble_EVT(CLIM_RG_boot)\n",
    "ensemble_EVT(RACMO_RG_boot)\n",
    "ensemble_EVT(EC_RG_boot)"
   ]
  },
  {
   "cell_type": "code",
   "execution_count": 20,
   "id": "incorporate-valve",
   "metadata": {},
   "outputs": [],
   "source": [
    "RR_df = pd.concat([x.risk_ratio.to_dataframe().risk_ratio.reset_index() for x in [EObs_RG_boot,CLIM_RG_boot,RACMO_RG_boot,EC_RG_boot]],keys=['E-Obs','HadGEM3-A','RACMO','EURO-CORDEX'],names=['source']).reset_index(level=0).reset_index(drop=True).dropna()"
   ]
  },
  {
   "cell_type": "code",
   "execution_count": 21,
   "id": "certain-helmet",
   "metadata": {},
   "outputs": [
    {
     "data": {
      "text/plain": [
       "''"
      ]
     },
     "execution_count": 21,
     "metadata": {},
     "output_type": "execute_result"
    },
    {
     "data": {
      "image/png": "[encoded data removed]",
      "text/plain": [
       "<Figure size 529.879x400 with 1 Axes>"
      ]
     },
     "metadata": {},
     "output_type": "display_data"
    }
   ],
   "source": [
    "choose_region = 'BI'\n",
    "\n",
    "g=sn.catplot(data=RR_df.query('region==\"'+choose_region+'\"').sort_values(by='metric',key=lambda x: x.map(dict(TX1av=0,TX10av=1,TX90av=2))),y='risk_ratio',x='metric',hue='source',hue_order=['E-Obs','HadGEM3-A','RACMO','EURO-CORDEX'],kind='point',ci=None,estimator=np.nanmedian,join=False,dodge=0.3,palette=palette1[:4],scale=1,aspect=1)    \n",
    "    \n",
    "g.map(hack_catplot_range,'metric','risk_ratio','source',ci=90,hue_order=['E-Obs','HadGEM3-A','RACMO','EURO-CORDEX'],dodge=0.3,palette=palette1[:4])\n",
    "\n",
    "g.set(ylabel='Risk ratio / ',xlabel='metric',yscale='log',ylim=(1,1e3))\n",
    "g.axes[0,0].axhline(0,ls=':',color='grey',lw=0.5)\n",
    "g.fig.dpi=80\n",
    "g.fig.patch.set_facecolor('xkcd:white')\n",
    "g.fig.suptitle('2018 heatwave risk ratio',fontweight='bold',y=1.05)\n",
    "''"
   ]
  },
  {
   "cell_type": "code",
   "execution_count": null,
   "id": "impressed-terminology",
   "metadata": {},
   "outputs": [],
   "source": []
  }
 ],
 "metadata": {
  "kernelspec": {
   "display_name": "Python 3",
   "language": "python",
   "name": "python3"
  },
  "language_info": {
   "codemirror_mode": {
    "name": "ipython",
    "version": 3
   },
   "file_extension": ".py",
   "mimetype": "text/x-python",
   "name": "python",
   "nbconvert_exporter": "python",
   "pygments_lexer": "ipython3",
   "version": "3.7.10"
  }
 },
 "nbformat": 4,
 "nbformat_minor": 5
}
